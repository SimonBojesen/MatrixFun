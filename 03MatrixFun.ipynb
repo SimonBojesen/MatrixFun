{
 "cells": [
  {
   "cell_type": "markdown",
   "id": "inappropriate-shelter",
   "metadata": {},
   "source": [
    "## DSC Assignment 03 - Matrix Fun"
   ]
  },
  {
   "cell_type": "code",
   "execution_count": 32,
   "id": "proud-chinese",
   "metadata": {},
   "outputs": [],
   "source": [
    "import numpy as np\n",
    "from matplotlib import pyplot as plt\n",
    "from numpy.linalg import inv"
   ]
  },
  {
   "cell_type": "code",
   "execution_count": 2,
   "id": "union-smooth",
   "metadata": {
    "scrolled": true
   },
   "outputs": [
    {
     "name": "stdout",
     "output_type": "stream",
     "text": [
      "[[3 1]\n",
      " [2 6]]\n",
      "[[-1  4]\n",
      " [ 3  8]]\n"
     ]
    }
   ],
   "source": [
    "A = np.array([[3,1],[2,6]])\n",
    "print(A)\n",
    "B = np.array([[-1,4],[3,8]])\n",
    "print(B)"
   ]
  },
  {
   "cell_type": "markdown",
   "id": "threaded-documentation",
   "metadata": {},
   "source": [
    "### Task 1"
   ]
  },
  {
   "cell_type": "code",
   "execution_count": 3,
   "id": "sonic-table",
   "metadata": {},
   "outputs": [
    {
     "name": "stdout",
     "output_type": "stream",
     "text": [
      "[[3 1]\n",
      " [2 6]]\n",
      "[[3 2]\n",
      " [1 6]]\n"
     ]
    }
   ],
   "source": [
    "#a\n",
    "print(A)\n",
    "print(np.transpose(A))"
   ]
  },
  {
   "cell_type": "code",
   "execution_count": 4,
   "id": "hairy-permit",
   "metadata": {},
   "outputs": [
    {
     "name": "stdout",
     "output_type": "stream",
     "text": [
      "[[-1  4]\n",
      " [ 3  8]]\n",
      "[[-1  3]\n",
      " [ 4  8]]\n"
     ]
    }
   ],
   "source": [
    "#b\n",
    "print(B)\n",
    "print(np.transpose(B))"
   ]
  },
  {
   "cell_type": "code",
   "execution_count": 5,
   "id": "mighty-consensus",
   "metadata": {},
   "outputs": [
    {
     "name": "stdout",
     "output_type": "stream",
     "text": [
      "[[-3  4]\n",
      " [ 6 48]]\n",
      "------------\n",
      "[[ 0 20]\n",
      " [16 56]]\n"
     ]
    }
   ],
   "source": [
    "#c\n",
    "print(A*B)# Element-wise\n",
    "print('------------')\n",
    "print(A@B) # Faster way to write np.dot(A,B). This gets us the dot product."
   ]
  },
  {
   "cell_type": "code",
   "execution_count": 6,
   "id": "fitted-composer",
   "metadata": {},
   "outputs": [
    {
     "name": "stdout",
     "output_type": "stream",
     "text": [
      "[[ 0 16]\n",
      " [20 56]]\n"
     ]
    }
   ],
   "source": [
    "#d\n",
    "print((A@B).T)# .T is a faster way to write np.transpose"
   ]
  },
  {
   "cell_type": "code",
   "execution_count": 7,
   "id": "derived-athletics",
   "metadata": {},
   "outputs": [
    {
     "name": "stdout",
     "output_type": "stream",
     "text": [
      "[[ 0 16]\n",
      " [20 56]]\n",
      "[[ 0 16]\n",
      " [20 56]]\n"
     ]
    }
   ],
   "source": [
    "#e\n",
    "print((A@B).T)\n",
    "print(B.T@A.T)\n",
    "# We get the same result, which implies the order of operations doesn't matter."
   ]
  },
  {
   "cell_type": "code",
   "execution_count": 8,
   "id": "appreciated-cloud",
   "metadata": {},
   "outputs": [
    {
     "name": "stdout",
     "output_type": "stream",
     "text": [
      "[[3 1]\n",
      " [2 6]]\n",
      "[[3 1]\n",
      " [2 6]]\n"
     ]
    }
   ],
   "source": [
    "#f\n",
    "print(A)\n",
    "print((A.T).T)\n"
   ]
  },
  {
   "cell_type": "code",
   "execution_count": 9,
   "id": "environmental-shelf",
   "metadata": {},
   "outputs": [
    {
     "name": "stdout",
     "output_type": "stream",
     "text": [
      "[[11  9]\n",
      " [18 38]]\n",
      "[[10 12]\n",
      " [12 40]]\n"
     ]
    }
   ],
   "source": [
    "#g\n",
    "print(A@A) # dot product\n",
    "print(A@A.T) # dot product of A with A transposed."
   ]
  },
  {
   "cell_type": "markdown",
   "id": "educated-marketing",
   "metadata": {},
   "source": [
    "### Task 2"
   ]
  },
  {
   "cell_type": "code",
   "execution_count": 10,
   "id": "assured-swedish",
   "metadata": {},
   "outputs": [
    {
     "name": "stdout",
     "output_type": "stream",
     "text": [
      "[[2 1]\n",
      " [3 2]]\n",
      "[[1 2]\n",
      " [3 4]]\n"
     ]
    }
   ],
   "source": [
    "# Overwriting A & B for more testing possibilities.\n",
    "A = np.array([[2,1],[3,2]])\n",
    "print(A)\n",
    "#B = np.array([[2,-1],[-3,2]]) # The old B matrix we addressed in the comment below.\n",
    "B = np.array([[1,2],[3,4]])\n",
    "print(B)"
   ]
  },
  {
   "cell_type": "code",
   "execution_count": 18,
   "id": "cooperative-update",
   "metadata": {},
   "outputs": [
    {
     "name": "stdout",
     "output_type": "stream",
     "text": [
      "[[ 5  8]\n",
      " [ 9 14]]\n",
      "[[ 8  5]\n",
      " [18 11]]\n"
     ]
    }
   ],
   "source": [
    "#a\n",
    "print(A@B)\n",
    "#b\n",
    "print(B@A)\n",
    "# You get the same result from both of these because B's row1, col2 value\n",
    "# is A's row1, col2 value * -1 and also for row2, col1.\n",
    "# Order would also not matter if the two matrices were the same.\n",
    "# You can demonstrate that order matters by running the first code cell \n",
    "# and then run this cell."
   ]
  },
  {
   "cell_type": "markdown",
   "id": "discrete-headset",
   "metadata": {},
   "source": [
    "### Task 3"
   ]
  },
  {
   "cell_type": "code",
   "execution_count": 19,
   "id": "animal-munich",
   "metadata": {},
   "outputs": [
    {
     "name": "stdout",
     "output_type": "stream",
     "text": [
      "[[ 2. -1.]\n",
      " [-3.  2.]]\n"
     ]
    }
   ],
   "source": [
    "#a\n",
    "print(inv(A))"
   ]
  },
  {
   "cell_type": "code",
   "execution_count": 20,
   "id": "given-rehabilitation",
   "metadata": {},
   "outputs": [
    {
     "name": "stdout",
     "output_type": "stream",
     "text": [
      "[[-2.   1. ]\n",
      " [ 1.5 -0.5]]\n"
     ]
    }
   ],
   "source": [
    "#b\n",
    "print(inv(B))"
   ]
  },
  {
   "cell_type": "code",
   "execution_count": 21,
   "id": "eastern-hunger",
   "metadata": {},
   "outputs": [
    {
     "name": "stdout",
     "output_type": "stream",
     "text": [
      "[[1. 0.]\n",
      " [0. 1.]]\n"
     ]
    }
   ],
   "source": [
    "#c\n",
    "print(A@inv(A))"
   ]
  },
  {
   "cell_type": "code",
   "execution_count": 22,
   "id": "faced-england",
   "metadata": {},
   "outputs": [
    {
     "name": "stdout",
     "output_type": "stream",
     "text": [
      "[[1. 0.]\n",
      " [0. 1.]]\n"
     ]
    }
   ],
   "source": [
    "#d\n",
    "print(inv(A)@A)"
   ]
  },
  {
   "cell_type": "code",
   "execution_count": 25,
   "id": "australian-essay",
   "metadata": {},
   "outputs": [
    {
     "name": "stdout",
     "output_type": "stream",
     "text": [
      "[[1.00000000e+00 1.11022302e-16]\n",
      " [0.00000000e+00 1.00000000e+00]]\n"
     ]
    }
   ],
   "source": [
    "#e\n",
    "print(B@inv(B)) \n",
    "# Rounding errors makes it look strange. \n",
    "# But it is supposed to be the same as the answer above."
   ]
  },
  {
   "cell_type": "code",
   "execution_count": 26,
   "id": "offensive-luxury",
   "metadata": {},
   "outputs": [
    {
     "name": "stdout",
     "output_type": "stream",
     "text": [
      "[[1.0000000e+00 4.4408921e-16]\n",
      " [0.0000000e+00 1.0000000e+00]]\n"
     ]
    }
   ],
   "source": [
    "#f\n",
    "print(inv(B)@B)"
   ]
  },
  {
   "cell_type": "markdown",
   "id": "written-token",
   "metadata": {},
   "source": [
    "### Task 4"
   ]
  },
  {
   "cell_type": "code",
   "execution_count": 28,
   "id": "forty-apparel",
   "metadata": {},
   "outputs": [],
   "source": [
    "#a\n",
    "A = np.array([[2,4],[1,2]])\n",
    "\n",
    "#This print causes a LinAlgError because the denominator becomes 0.\n",
    "#print(inv(A)) "
   ]
  },
  {
   "cell_type": "markdown",
   "id": "prescribed-girlfriend",
   "metadata": {},
   "source": [
    "### Task 5"
   ]
  },
  {
   "cell_type": "code",
   "execution_count": 46,
   "id": "political-pavilion",
   "metadata": {},
   "outputs": [
    {
     "data": {
      "image/png": "[encoded data removed]",
      "text/plain": [
       "<Figure size 432x288 with 1 Axes>"
      ]
     },
     "execution_count": 46,
     "metadata": {},
     "output_type": "execute_result"
    },
    {
     "data": {
      "text/plain": [
       "<Figure size 432x288 with 0 Axes>"
      ]
     },
     "metadata": {},
     "output_type": "display_data"
    },
    {
     "data": {
      "image/png": "[encoded data removed]",
      "text/plain": [
       "<Figure size 432x288 with 1 Axes>"
      ]
     },
     "metadata": {
      "needs_background": "light"
     },
     "output_type": "display_data"
    }
   ],
   "source": [
    "#a\n",
    "xs = np.array([0,0,3,3,0,1.5,3])# List of x coordinates\n",
    "ys = np.array([1,0,0,1,1,2 ,1])# List of y coordinates\n",
    "\n",
    "fig = plt.figure()\n",
    "fig, ax = plt.subplots()\n",
    "\n",
    "xs_ys = np.array([xs,ys])\n",
    "ax.axis('equal')\n",
    "\n",
    "# Plot the points\n",
    "ax.plot( *xs_ys, '-', color='b')\n",
    "\n",
    "# Create a rotation matrix\n",
    "rot = np.array([[1, 1],[-1, 1]])# <-- CHANGE THIS\n",
    "\n",
    "# turn the two lists (xs, ys) into a list of (x,y) tuples\n",
    "points = np.array([[x,y] for x,y in zip(xs,ys)])\n",
    "\n",
    "# Make the transformation:\n",
    "points_rot = (points @ rot)\n",
    "\n",
    "# Turn it into a row of xs and a row of ys:\n",
    "xs_ys_rot = np.array([points_rot[:,0], points_rot[:,1]])\n",
    "\n",
    "# Finally, plot it\n",
    "ax.plot( *xs_ys_rot, '-', color='r')\n",
    "fig"
   ]
  },
  {
   "cell_type": "code",
   "execution_count": null,
   "id": "offshore-cincinnati",
   "metadata": {},
   "outputs": [],
   "source": []
  }
 ],
 "metadata": {
  "kernelspec": {
   "display_name": "Python 3",
   "language": "python",
   "name": "python3"
  },
  "language_info": {
   "codemirror_mode": {
    "name": "ipython",
    "version": 3
   },
   "file_extension": ".py",
   "mimetype": "text/x-python",
   "name": "python",
   "nbconvert_exporter": "python",
   "pygments_lexer": "ipython3",
   "version": "3.8.5"
  }
 },
 "nbformat": 4,
 "nbformat_minor": 5
}
